{
 "cells": [
  {
   "cell_type": "markdown",
   "metadata": {},
   "source": [
    "# S&P 500 vs NASDAQ 100"
   ]
  },
  {
   "cell_type": "code",
   "execution_count": 1,
   "metadata": {},
   "outputs": [],
   "source": [
    "# What's the difference\n",
    "# Analysis and Comparison of S&P and NASDAQ"
   ]
  },
  {
   "cell_type": "markdown",
   "metadata": {},
   "source": [
    "# Import Libraries"
   ]
  },
  {
   "cell_type": "code",
   "execution_count": 2,
   "metadata": {},
   "outputs": [],
   "source": [
    "import datetime\n",
    "import calendar\n",
    "import pandas as pd\n",
    "import pandas_datareader.data as web\n",
    "import matplotlib.pyplot as plt\n",
    "import numpy as np\n",
    "from scipy import stats"
   ]
  },
  {
   "cell_type": "code",
   "execution_count": 3,
   "metadata": {},
   "outputs": [
    {
     "data": {
      "text/html": [
       "<div>\n",
       "<style scoped>\n",
       "    .dataframe tbody tr th:only-of-type {\n",
       "        vertical-align: middle;\n",
       "    }\n",
       "\n",
       "    .dataframe tbody tr th {\n",
       "        vertical-align: top;\n",
       "    }\n",
       "\n",
       "    .dataframe thead th {\n",
       "        text-align: right;\n",
       "    }\n",
       "</style>\n",
       "<table border=\"1\" class=\"dataframe\">\n",
       "  <thead>\n",
       "    <tr style=\"text-align: right;\">\n",
       "      <th></th>\n",
       "      <th>SPY</th>\n",
       "    </tr>\n",
       "  </thead>\n",
       "  <tbody>\n",
       "    <tr>\n",
       "      <th>Apple</th>\n",
       "      <td>6.37</td>\n",
       "    </tr>\n",
       "    <tr>\n",
       "      <th>Microsoft</th>\n",
       "      <td>5.39</td>\n",
       "    </tr>\n",
       "    <tr>\n",
       "      <th>Amazon</th>\n",
       "      <td>4.49</td>\n",
       "    </tr>\n",
       "    <tr>\n",
       "      <th>Facebook</th>\n",
       "      <td>2.21</td>\n",
       "    </tr>\n",
       "    <tr>\n",
       "      <th>Alphabet A</th>\n",
       "      <td>1.75</td>\n",
       "    </tr>\n",
       "    <tr>\n",
       "      <th>Alphabet C</th>\n",
       "      <td>1.72</td>\n",
       "    </tr>\n",
       "    <tr>\n",
       "      <th>Berkshire Hathaway B</th>\n",
       "      <td>1.51</td>\n",
       "    </tr>\n",
       "    <tr>\n",
       "      <th>Johnson &amp; Johnson</th>\n",
       "      <td>1.27</td>\n",
       "    </tr>\n",
       "    <tr>\n",
       "      <th>JPMorgan Chase</th>\n",
       "      <td>1.20</td>\n",
       "    </tr>\n",
       "    <tr>\n",
       "      <th>Visa A</th>\n",
       "      <td>1.18</td>\n",
       "    </tr>\n",
       "  </tbody>\n",
       "</table>\n",
       "</div>"
      ],
      "text/plain": [
       "                       SPY\n",
       "Apple                 6.37\n",
       "Microsoft             5.39\n",
       "Amazon                4.49\n",
       "Facebook              2.21\n",
       "Alphabet A            1.75\n",
       "Alphabet C            1.72\n",
       "Berkshire Hathaway B  1.51\n",
       "Johnson & Johnson     1.27\n",
       "JPMorgan Chase        1.20\n",
       "Visa A                1.18"
      ]
     },
     "execution_count": 3,
     "metadata": {},
     "output_type": "execute_result"
    }
   ],
   "source": [
    "# Top 10 SPY asset holdings\n",
    "h_spy = {'SPY':[6.37, 5.39, 4.49, 2.21, 1.75, 1.72, 1.51, 1.27, 1.2, 1.18]} \n",
    "df_h_spy = pd.DataFrame(h_spy, index =['Apple', 'Microsoft', 'Amazon', 'Facebook', 'Alphabet A', 'Alphabet C', 'Berkshire Hathaway B', 'Johnson & Johnson', 'JPMorgan Chase', 'Visa A'])\n",
    "df_h_spy"
   ]
  },
  {
   "cell_type": "code",
   "execution_count": 4,
   "metadata": {},
   "outputs": [
    {
     "data": {
      "text/html": [
       "<div>\n",
       "<style scoped>\n",
       "    .dataframe tbody tr th:only-of-type {\n",
       "        vertical-align: middle;\n",
       "    }\n",
       "\n",
       "    .dataframe tbody tr th {\n",
       "        vertical-align: top;\n",
       "    }\n",
       "\n",
       "    .dataframe thead th {\n",
       "        text-align: right;\n",
       "    }\n",
       "</style>\n",
       "<table border=\"1\" class=\"dataframe\">\n",
       "  <thead>\n",
       "    <tr style=\"text-align: right;\">\n",
       "      <th></th>\n",
       "      <th>QQQ</th>\n",
       "    </tr>\n",
       "  </thead>\n",
       "  <tbody>\n",
       "    <tr>\n",
       "      <th>Apple</th>\n",
       "      <td>12.81</td>\n",
       "    </tr>\n",
       "    <tr>\n",
       "      <th>Microsoft</th>\n",
       "      <td>10.19</td>\n",
       "    </tr>\n",
       "    <tr>\n",
       "      <th>Amazon</th>\n",
       "      <td>9.98</td>\n",
       "    </tr>\n",
       "    <tr>\n",
       "      <th>Tesla</th>\n",
       "      <td>4.42</td>\n",
       "    </tr>\n",
       "    <tr>\n",
       "      <th>Facebook</th>\n",
       "      <td>4.19</td>\n",
       "    </tr>\n",
       "    <tr>\n",
       "      <th>Alphabet A</th>\n",
       "      <td>3.80</td>\n",
       "    </tr>\n",
       "    <tr>\n",
       "      <th>Alphabet C</th>\n",
       "      <td>3.69</td>\n",
       "    </tr>\n",
       "    <tr>\n",
       "      <th>NVIDIA</th>\n",
       "      <td>2.65</td>\n",
       "    </tr>\n",
       "    <tr>\n",
       "      <th>PayPal</th>\n",
       "      <td>2.02</td>\n",
       "    </tr>\n",
       "    <tr>\n",
       "      <th>Adobe</th>\n",
       "      <td>1.84</td>\n",
       "    </tr>\n",
       "  </tbody>\n",
       "</table>\n",
       "</div>"
      ],
      "text/plain": [
       "              QQQ\n",
       "Apple       12.81\n",
       "Microsoft   10.19\n",
       "Amazon       9.98\n",
       "Tesla        4.42\n",
       "Facebook     4.19\n",
       "Alphabet A   3.80\n",
       "Alphabet C   3.69\n",
       "NVIDIA       2.65\n",
       "PayPal       2.02\n",
       "Adobe        1.84"
      ]
     },
     "execution_count": 4,
     "metadata": {},
     "output_type": "execute_result"
    }
   ],
   "source": [
    "# Top 10 QQQ asset holdings\n",
    "h_qqq = {'QQQ':[12.81, 10.19, 9.98, 4.42, 4.19, 3.8, 3.69, 2.65, 2.02, 1.84]} \n",
    "df_h_qqq = pd.DataFrame(h_qqq, index =['Apple', 'Microsoft', 'Amazon', 'Tesla', 'Facebook', 'Alphabet A', 'Alphabet C', 'NVIDIA', 'PayPal', 'Adobe'])\n",
    "df_h_qqq"
   ]
  },
  {
   "cell_type": "code",
   "execution_count": 5,
   "metadata": {},
   "outputs": [
    {
     "data": {
      "text/html": [
       "<div>\n",
       "<style scoped>\n",
       "    .dataframe tbody tr th:only-of-type {\n",
       "        vertical-align: middle;\n",
       "    }\n",
       "\n",
       "    .dataframe tbody tr th {\n",
       "        vertical-align: top;\n",
       "    }\n",
       "\n",
       "    .dataframe thead th {\n",
       "        text-align: right;\n",
       "    }\n",
       "</style>\n",
       "<table border=\"1\" class=\"dataframe\">\n",
       "  <thead>\n",
       "    <tr style=\"text-align: right;\">\n",
       "      <th></th>\n",
       "      <th>SPY</th>\n",
       "      <th>QQQ</th>\n",
       "    </tr>\n",
       "  </thead>\n",
       "  <tbody>\n",
       "    <tr>\n",
       "      <th>Apple</th>\n",
       "      <td>6.37</td>\n",
       "      <td>12.81</td>\n",
       "    </tr>\n",
       "    <tr>\n",
       "      <th>Microsoft</th>\n",
       "      <td>5.39</td>\n",
       "      <td>10.19</td>\n",
       "    </tr>\n",
       "    <tr>\n",
       "      <th>Amazon</th>\n",
       "      <td>4.49</td>\n",
       "      <td>9.98</td>\n",
       "    </tr>\n",
       "    <tr>\n",
       "      <th>Facebook</th>\n",
       "      <td>2.21</td>\n",
       "      <td>4.19</td>\n",
       "    </tr>\n",
       "    <tr>\n",
       "      <th>Alphabet A</th>\n",
       "      <td>1.75</td>\n",
       "      <td>3.80</td>\n",
       "    </tr>\n",
       "    <tr>\n",
       "      <th>Alphabet C</th>\n",
       "      <td>1.72</td>\n",
       "      <td>3.69</td>\n",
       "    </tr>\n",
       "    <tr>\n",
       "      <th>Berkshire Hathaway B</th>\n",
       "      <td>1.51</td>\n",
       "      <td>NaN</td>\n",
       "    </tr>\n",
       "    <tr>\n",
       "      <th>Johnson &amp; Johnson</th>\n",
       "      <td>1.27</td>\n",
       "      <td>NaN</td>\n",
       "    </tr>\n",
       "    <tr>\n",
       "      <th>JPMorgan Chase</th>\n",
       "      <td>1.20</td>\n",
       "      <td>NaN</td>\n",
       "    </tr>\n",
       "    <tr>\n",
       "      <th>Visa A</th>\n",
       "      <td>1.18</td>\n",
       "      <td>NaN</td>\n",
       "    </tr>\n",
       "    <tr>\n",
       "      <th>Adobe</th>\n",
       "      <td>NaN</td>\n",
       "      <td>1.84</td>\n",
       "    </tr>\n",
       "    <tr>\n",
       "      <th>NVIDIA</th>\n",
       "      <td>NaN</td>\n",
       "      <td>2.65</td>\n",
       "    </tr>\n",
       "    <tr>\n",
       "      <th>PayPal</th>\n",
       "      <td>NaN</td>\n",
       "      <td>2.02</td>\n",
       "    </tr>\n",
       "    <tr>\n",
       "      <th>Tesla</th>\n",
       "      <td>NaN</td>\n",
       "      <td>4.42</td>\n",
       "    </tr>\n",
       "  </tbody>\n",
       "</table>\n",
       "</div>"
      ],
      "text/plain": [
       "                       SPY    QQQ\n",
       "Apple                 6.37  12.81\n",
       "Microsoft             5.39  10.19\n",
       "Amazon                4.49   9.98\n",
       "Facebook              2.21   4.19\n",
       "Alphabet A            1.75   3.80\n",
       "Alphabet C            1.72   3.69\n",
       "Berkshire Hathaway B  1.51    NaN\n",
       "Johnson & Johnson     1.27    NaN\n",
       "JPMorgan Chase        1.20    NaN\n",
       "Visa A                1.18    NaN\n",
       "Adobe                  NaN   1.84\n",
       "NVIDIA                 NaN   2.65\n",
       "PayPal                 NaN   2.02\n",
       "Tesla                  NaN   4.42"
      ]
     },
     "execution_count": 5,
     "metadata": {},
     "output_type": "execute_result"
    }
   ],
   "source": [
    "# Join holdings into one table\n",
    "holdings = pd.merge(df_h_spy, df_h_qqq, how='outer', left_index=True, right_index=True)\n",
    "holdings.sort_values(by=['SPY'], ascending=False)"
   ]
  },
  {
   "cell_type": "markdown",
   "metadata": {},
   "source": [
    "# S&P 500 Data"
   ]
  },
  {
   "cell_type": "code",
   "execution_count": 6,
   "metadata": {},
   "outputs": [],
   "source": [
    "# Start date\n",
    "start_date = datetime.datetime(1990,1,1)\n",
    "\n",
    "# Today's Date\n",
    "end_date = datetime.date.today()\n",
    "\n",
    "# Pull Data\n",
    "df_sp500 = web.DataReader('^GSPC','yahoo',start_date, end_date)\n",
    "\n",
    "# Reset index after creating date column\n",
    "df_sp500 = df_sp500.reset_index()"
   ]
  },
  {
   "cell_type": "markdown",
   "metadata": {},
   "source": [
    "# NASDAQ 100 Data"
   ]
  },
  {
   "cell_type": "code",
   "execution_count": 7,
   "metadata": {},
   "outputs": [],
   "source": [
    "# Start date\n",
    "start_date = datetime.datetime(1990,1,1)\n",
    "\n",
    "# Today's date\n",
    "end_date = datetime.date.today()\n",
    "\n",
    "# Pull Data\n",
    "df_nd100 = web.DataReader('^NDX','yahoo',start_date,end_date)\n",
    "\n",
    "# Reset index after creating date column\n",
    "df_nd100 = df_nd100.reset_index()"
   ]
  },
  {
   "cell_type": "markdown",
   "metadata": {},
   "source": [
    "# First Look (Index)"
   ]
  },
  {
   "cell_type": "code",
   "execution_count": 8,
   "metadata": {},
   "outputs": [],
   "source": [
    "# Make one dataframe of date and adjusted close price of SPY and VOO\n",
    "df_ind = pd.DataFrame(df_sp500['Date'])\n",
    "df_ind['SP500'] = df_sp500['Adj Close']\n",
    "df_ind['ND100'] = df_nd100['Adj Close']"
   ]
  },
  {
   "cell_type": "code",
   "execution_count": 9,
   "metadata": {},
   "outputs": [
    {
     "name": "stderr",
     "output_type": "stream",
     "text": [
      "C:\\Users\\mchin\\Anaconda3\\lib\\site-packages\\pandas\\plotting\\_matplotlib\\converter.py:103: FutureWarning: Using an implicitly registered datetime converter for a matplotlib plotting method. The converter was registered by pandas on import. Future versions of pandas will require you to explicitly register matplotlib converters.\n",
      "\n",
      "To register the converters:\n",
      "\t>>> from pandas.plotting import register_matplotlib_converters\n",
      "\t>>> register_matplotlib_converters()\n",
      "  warnings.warn(msg, FutureWarning)\n"
     ]
    },
    {
     "data": {
      "image/png": "[encoded data removed]",
      "text/plain": [
       "<Figure size 432x288 with 1 Axes>"
      ]
     },
     "metadata": {
      "needs_background": "light"
     },
     "output_type": "display_data"
    }
   ],
   "source": [
    "# Plot all data\n",
    "plt.plot(df_ind['Date'],df_ind['SP500'],'C0')\n",
    "plt.plot(df_ind['Date'],df_ind['ND100'],'C1')\n",
    "plt.xlabel('Date')\n",
    "plt.ylabel('Index Price ($)')\n",
    "plt.legend(['S&P 500','NASDAQ 100'])\n",
    "plt.title('Historical Index Prices')\n",
    "plt.show()"
   ]
  },
  {
   "cell_type": "markdown",
   "metadata": {},
   "source": [
    "# SPY Data"
   ]
  },
  {
   "cell_type": "code",
   "execution_count": 10,
   "metadata": {},
   "outputs": [],
   "source": [
    "# Start date\n",
    "start_date = datetime.datetime(2000,1,1)\n",
    "\n",
    "# Today's Date\n",
    "end_date = datetime.date.today()\n",
    "\n",
    "# Pull Data\n",
    "df_spy = web.DataReader('SPY','yahoo',start_date, end_date)\n",
    "\n",
    "# Reset index after creating date column\n",
    "df_spy = df_spy.reset_index()"
   ]
  },
  {
   "cell_type": "markdown",
   "metadata": {},
   "source": [
    "# QQQ Data"
   ]
  },
  {
   "cell_type": "code",
   "execution_count": 11,
   "metadata": {},
   "outputs": [],
   "source": [
    "# Start date\n",
    "start_date = datetime.datetime(2000,1,1)\n",
    "\n",
    "# Today's date\n",
    "end_date = datetime.date.today()\n",
    "\n",
    "# Pull Data\n",
    "df_qqq = web.DataReader('QQQ','yahoo',start_date,end_date)\n",
    "\n",
    "# Reset index after creating date column\n",
    "df_qqq = df_qqq.reset_index()"
   ]
  },
  {
   "cell_type": "markdown",
   "metadata": {},
   "source": [
    "# First Look (ETF)"
   ]
  },
  {
   "cell_type": "code",
   "execution_count": 12,
   "metadata": {},
   "outputs": [],
   "source": [
    "# Make one dataframe of date and adjusted close price of SPY and VOO\n",
    "df_etf = pd.DataFrame(df_spy['Date'])\n",
    "df_etf['SPY'] = df_spy['Adj Close']\n",
    "df_etf['QQQ'] = df_qqq['Adj Close']"
   ]
  },
  {
   "cell_type": "code",
   "execution_count": 13,
   "metadata": {},
   "outputs": [
    {
     "data": {
      "image/png": "[encoded data removed]",
      "text/plain": [
       "<Figure size 432x288 with 1 Axes>"
      ]
     },
     "metadata": {
      "needs_background": "light"
     },
     "output_type": "display_data"
    }
   ],
   "source": [
    "# Plot all data\n",
    "plt.plot(df_etf['Date'],df_etf['SPY'],'C0')\n",
    "plt.plot(df_etf['Date'],df_etf['QQQ'],'C1')\n",
    "plt.xlabel('Date')\n",
    "plt.ylabel('Share Price ($)')\n",
    "plt.legend(['SPY','QQQ'])\n",
    "plt.title('Historical Share Prices')\n",
    "plt.show()"
   ]
  },
  {
   "cell_type": "code",
   "execution_count": 14,
   "metadata": {},
   "outputs": [
    {
     "data": {
      "text/html": [
       "<div>\n",
       "<style scoped>\n",
       "    .dataframe tbody tr th:only-of-type {\n",
       "        vertical-align: middle;\n",
       "    }\n",
       "\n",
       "    .dataframe tbody tr th {\n",
       "        vertical-align: top;\n",
       "    }\n",
       "\n",
       "    .dataframe thead th {\n",
       "        text-align: right;\n",
       "    }\n",
       "</style>\n",
       "<table border=\"1\" class=\"dataframe\">\n",
       "  <thead>\n",
       "    <tr style=\"text-align: right;\">\n",
       "      <th></th>\n",
       "      <th>SPY</th>\n",
       "      <th>QQQ</th>\n",
       "    </tr>\n",
       "  </thead>\n",
       "  <tbody>\n",
       "    <tr>\n",
       "      <th>count</th>\n",
       "      <td>5284.000000</td>\n",
       "      <td>5284.000000</td>\n",
       "    </tr>\n",
       "    <tr>\n",
       "      <th>mean</th>\n",
       "      <td>140.957935</td>\n",
       "      <td>78.187717</td>\n",
       "    </tr>\n",
       "    <tr>\n",
       "      <th>std</th>\n",
       "      <td>74.641769</td>\n",
       "      <td>60.287773</td>\n",
       "    </tr>\n",
       "    <tr>\n",
       "      <th>min</th>\n",
       "      <td>53.503864</td>\n",
       "      <td>17.459492</td>\n",
       "    </tr>\n",
       "    <tr>\n",
       "      <th>25%</th>\n",
       "      <td>86.894154</td>\n",
       "      <td>34.937085</td>\n",
       "    </tr>\n",
       "    <tr>\n",
       "      <th>50%</th>\n",
       "      <td>106.692188</td>\n",
       "      <td>51.556118</td>\n",
       "    </tr>\n",
       "    <tr>\n",
       "      <th>75%</th>\n",
       "      <td>186.632206</td>\n",
       "      <td>102.883266</td>\n",
       "    </tr>\n",
       "    <tr>\n",
       "      <th>max</th>\n",
       "      <td>373.880005</td>\n",
       "      <td>313.739990</td>\n",
       "    </tr>\n",
       "  </tbody>\n",
       "</table>\n",
       "</div>"
      ],
      "text/plain": [
       "               SPY          QQQ\n",
       "count  5284.000000  5284.000000\n",
       "mean    140.957935    78.187717\n",
       "std      74.641769    60.287773\n",
       "min      53.503864    17.459492\n",
       "25%      86.894154    34.937085\n",
       "50%     106.692188    51.556118\n",
       "75%     186.632206   102.883266\n",
       "max     373.880005   313.739990"
      ]
     },
     "execution_count": 14,
     "metadata": {},
     "output_type": "execute_result"
    }
   ],
   "source": [
    "# ETF price stats\n",
    "df_etf.describe()"
   ]
  },
  {
   "cell_type": "markdown",
   "metadata": {},
   "source": [
    "# Percent Change"
   ]
  },
  {
   "cell_type": "markdown",
   "metadata": {},
   "source": [
    "# Daily"
   ]
  },
  {
   "cell_type": "code",
   "execution_count": 15,
   "metadata": {},
   "outputs": [],
   "source": [
    "# Day-to-day percent change\n",
    "df_etf['SPY Percent Change'] = (df_etf['SPY'].pct_change())*100\n",
    "df_etf['QQQ Percent Change'] = (df_etf['QQQ'].pct_change())*100"
   ]
  },
  {
   "cell_type": "code",
   "execution_count": 16,
   "metadata": {},
   "outputs": [],
   "source": [
    "# Flag ETF with greater percent change\n",
    "df_etf['Greater'] = np.where(df_etf['SPY Percent Change']>df_etf['QQQ Percent Change'],'SPY',np.where(df_etf['SPY Percent Change']==df_etf['QQQ Percent Change'],'Equal','QQQ'))\n",
    "\n",
    "# Percent change difference\n",
    "df_etf['daily diff'] = df_etf['SPY Percent Change']-df_etf['QQQ Percent Change']"
   ]
  },
  {
   "cell_type": "code",
   "execution_count": 17,
   "metadata": {},
   "outputs": [
    {
     "data": {
      "text/plain": [
       "Text(0.5, 1.0, 'Number of days an ETF increased more')"
      ]
     },
     "execution_count": 17,
     "metadata": {},
     "output_type": "execute_result"
    },
    {
     "data": {
      "image/png": "[encoded data removed]",
      "text/plain": [
       "<Figure size 432x288 with 1 Axes>"
      ]
     },
     "metadata": {
      "needs_background": "light"
     },
     "output_type": "display_data"
    }
   ],
   "source": [
    "# Get counts of 'Greater' flag\n",
    "etf_counts_daily = df_etf['Greater'].value_counts()\n",
    "df_len_daily = len(df_etf)\n",
    "equal_counts_daily = df_len_daily-sum(etf_counts_daily)\n",
    "\n",
    "# Bar Plot\n",
    "bar_df_daily = pd.DataFrame({'ETF':['SPY', 'QQQ', 'Equal'], 'Count':[etf_counts_daily[1],etf_counts_daily[0],equal_counts_daily]})\n",
    "bar_plot_daily = bar_df_daily.plot.bar(x='ETF', y='Count', rot=0)\n",
    "plt.xlabel('')\n",
    "plt.title('Number of days an ETF increased more')"
   ]
  },
  {
   "cell_type": "code",
   "execution_count": 18,
   "metadata": {},
   "outputs": [
    {
     "name": "stderr",
     "output_type": "stream",
     "text": [
      "C:\\Users\\mchin\\Anaconda3\\lib\\site-packages\\numpy\\lib\\histograms.py:391: RuntimeWarning: invalid value encountered in greater_equal\n",
      "  keep = (a >= first_edge)\n",
      "C:\\Users\\mchin\\Anaconda3\\lib\\site-packages\\numpy\\lib\\histograms.py:392: RuntimeWarning: invalid value encountered in less_equal\n",
      "  keep &= (a <= last_edge)\n",
      "C:\\Users\\mchin\\Anaconda3\\lib\\site-packages\\numpy\\lib\\histograms.py:824: RuntimeWarning: invalid value encountered in greater_equal\n",
      "  keep = (tmp_a >= first_edge)\n",
      "C:\\Users\\mchin\\Anaconda3\\lib\\site-packages\\numpy\\lib\\histograms.py:825: RuntimeWarning: invalid value encountered in less_equal\n",
      "  keep &= (tmp_a <= last_edge)\n"
     ]
    },
    {
     "data": {
      "text/plain": [
       "Text(0, 0.5, 'Count')"
      ]
     },
     "execution_count": 18,
     "metadata": {},
     "output_type": "execute_result"
    },
    {
     "data": {
      "image/png": "[encoded data removed]",
      "text/plain": [
       "<Figure size 432x288 with 1 Axes>"
      ]
     },
     "metadata": {
      "needs_background": "light"
     },
     "output_type": "display_data"
    }
   ],
   "source": [
    "# Plot histogram of percent change differences\n",
    "daily_per_hist = plt.hist(df_etf['daily diff'], bins = 'auto')\n",
    "plt.title('SPY Percent Difference Relative to QQQ (Day-to-Day)')\n",
    "plt.xlabel('Percent Difference (%)')\n",
    "plt.ylabel('Count')"
   ]
  },
  {
   "cell_type": "markdown",
   "metadata": {},
   "source": [
    "# 1-Year"
   ]
  },
  {
   "cell_type": "code",
   "execution_count": 19,
   "metadata": {},
   "outputs": [],
   "source": [
    "# Create function to calculate returns\n",
    "def year_percent_change(df_etf, yr):\n",
    "    # create new dataframe\n",
    "    df_yr_return = pd.DataFrame(df_etf, columns = ['Date','SPY','QQQ'])\n",
    "    \n",
    "    # create new column for dates 1-year later\n",
    "    yr_col = 'Date ' + str(yr) + '-year'\n",
    "    df_yr_return[yr_col] = df_yr_return['Date'] + pd.DateOffset(years = yr)\n",
    "\n",
    "    # create dataframe of historical data to left join to 1-year later dates\n",
    "    df_join = pd.DataFrame(df_etf, columns = ['Date','SPY','QQQ'])\n",
    "    df_join.columns = [yr_col,'SPY','QQQ']\n",
    "\n",
    "    # left join historical data to 1-year later dates\n",
    "    df_yr_return = pd.merge(df_yr_return,df_join,on=yr_col,how='left').dropna()\n",
    "    \n",
    "    # calculate 1-year percent change\n",
    "    yr_year = str(yr) + '-year'\n",
    "    spy_yr = 'SPY ' + yr_year\n",
    "    qqq_yr = 'QQQ ' + yr_year\n",
    "    df_yr_return[spy_yr] = (df_yr_return['SPY_y']/df_yr_return['SPY_x'])*100\n",
    "    df_yr_return[qqq_yr] = (df_yr_return['QQQ_y']/df_yr_return['QQQ_x'])*100\n",
    "\n",
    "    # flag ETF with greater percent change\n",
    "    df_yr_return['Greater'] = np.where(df_yr_return[spy_yr]>df_yr_return[qqq_yr],'SPY',np.where(df_yr_return[spy_yr]==df_yr_return[qqq_yr],'Equal','QQQ'))\n",
    "\n",
    "    # calculate percent change differences\n",
    "    yr_diff = yr_year + ' diff'\n",
    "    df_yr_return[yr_diff] = df_yr_return[spy_yr]-df_yr_return[qqq_yr]\n",
    "\n",
    "    # Get counts for 'Greater' flag\n",
    "    etf_counts = df_yr_return['Greater'].value_counts()\n",
    "    df_len = len(df_yr_return)\n",
    "    equal_counts = df_len-sum(etf_counts)\n",
    "    \n",
    "    return df_yr_return, etf_counts, equal_counts\n"
   ]
  },
  {
   "cell_type": "code",
   "execution_count": 20,
   "metadata": {},
   "outputs": [],
   "source": [
    "# Create function to plot bar chart\n",
    "def bar_chart(etf_counts, equal_counts, yr):\n",
    "    # bar plot\n",
    "    bar_df = pd.DataFrame({'ETF':['SPY', 'QQQ', 'Equal'], 'Count':[etf_counts[1],etf_counts[0],equal_counts]})\n",
    "    bar_plot = bar_df.plot.bar(x='ETF', y='Count', rot=0)\n",
    "    plt.xlabel('')\n",
    "    plt.title('Number of ' + str(yr) + '-year periods an ETF increased more')"
   ]
  },
  {
   "cell_type": "code",
   "execution_count": 21,
   "metadata": {},
   "outputs": [],
   "source": [
    "# Create function to plot histogram\n",
    "def hist_chart(df_yr_return, yr):\n",
    "    # histogram of percent change differences after 1-year\n",
    "    yr_col = str(yr) + '-year diff'\n",
    "    yr_title = str(yr) + '-year'\n",
    "    yr_per_hist = plt.hist(df_yr_return[yr_col], bins = 'auto')\n",
    "    plt.title('SPY Percent Difference Relative to QQQ (' + yr_title + ')')\n",
    "    plt.xlabel('Percent Difference (%)')\n",
    "    plt.ylabel('Count')"
   ]
  },
  {
   "cell_type": "code",
   "execution_count": 22,
   "metadata": {},
   "outputs": [],
   "source": [
    "# Calculate 1-year returns\n",
    "y1_return_1, y1_return_2, y1_return_3 = year_percent_change(df_etf, 1)"
   ]
  },
  {
   "cell_type": "code",
   "execution_count": 23,
   "metadata": {},
   "outputs": [
    {
     "data": {
      "image/png": "[encoded data removed]",
      "text/plain": [
       "<Figure size 432x288 with 1 Axes>"
      ]
     },
     "metadata": {
      "needs_background": "light"
     },
     "output_type": "display_data"
    }
   ],
   "source": [
    "# Plot 1-year bar chart\n",
    "y1_bar = bar_chart(y1_return_2, y1_return_3, 1)"
   ]
  },
  {
   "cell_type": "code",
   "execution_count": 24,
   "metadata": {},
   "outputs": [
    {
     "data": {
      "image/png": "[encoded data removed]",
      "text/plain": [
       "<Figure size 432x288 with 1 Axes>"
      ]
     },
     "metadata": {
      "needs_background": "light"
     },
     "output_type": "display_data"
    }
   ],
   "source": [
    "# Plot 1-year histogram\n",
    "y1_hist = hist_chart(y1_return_1, 1)"
   ]
  },
  {
   "cell_type": "code",
   "execution_count": 25,
   "metadata": {},
   "outputs": [
    {
     "data": {
      "text/html": [
       "<div>\n",
       "<style scoped>\n",
       "    .dataframe tbody tr th:only-of-type {\n",
       "        vertical-align: middle;\n",
       "    }\n",
       "\n",
       "    .dataframe tbody tr th {\n",
       "        vertical-align: top;\n",
       "    }\n",
       "\n",
       "    .dataframe thead th {\n",
       "        text-align: right;\n",
       "    }\n",
       "</style>\n",
       "<table border=\"1\" class=\"dataframe\">\n",
       "  <thead>\n",
       "    <tr style=\"text-align: right;\">\n",
       "      <th></th>\n",
       "      <th>SPY_x</th>\n",
       "      <th>QQQ_x</th>\n",
       "      <th>SPY_y</th>\n",
       "      <th>QQQ_y</th>\n",
       "      <th>SPY 1-year</th>\n",
       "      <th>QQQ 1-year</th>\n",
       "      <th>1-year diff</th>\n",
       "    </tr>\n",
       "  </thead>\n",
       "  <tbody>\n",
       "    <tr>\n",
       "      <th>count</th>\n",
       "      <td>3718.000000</td>\n",
       "      <td>3718.000000</td>\n",
       "      <td>3718.000000</td>\n",
       "      <td>3718.000000</td>\n",
       "      <td>3718.000000</td>\n",
       "      <td>3718.000000</td>\n",
       "      <td>3718.000000</td>\n",
       "    </tr>\n",
       "    <tr>\n",
       "      <th>mean</th>\n",
       "      <td>131.090108</td>\n",
       "      <td>68.852190</td>\n",
       "      <td>142.414674</td>\n",
       "      <td>77.209400</td>\n",
       "      <td>107.784638</td>\n",
       "      <td>109.812931</td>\n",
       "      <td>-2.028293</td>\n",
       "    </tr>\n",
       "    <tr>\n",
       "      <th>std</th>\n",
       "      <td>63.536945</td>\n",
       "      <td>46.095748</td>\n",
       "      <td>74.902582</td>\n",
       "      <td>60.066914</td>\n",
       "      <td>16.506389</td>\n",
       "      <td>25.410340</td>\n",
       "      <td>12.989882</td>\n",
       "    </tr>\n",
       "    <tr>\n",
       "      <th>min</th>\n",
       "      <td>53.503864</td>\n",
       "      <td>17.459492</td>\n",
       "      <td>54.045895</td>\n",
       "      <td>17.459492</td>\n",
       "      <td>52.645897</td>\n",
       "      <td>30.615592</td>\n",
       "      <td>-39.148806</td>\n",
       "    </tr>\n",
       "    <tr>\n",
       "      <th>25%</th>\n",
       "      <td>85.907768</td>\n",
       "      <td>34.303350</td>\n",
       "      <td>86.146782</td>\n",
       "      <td>34.522491</td>\n",
       "      <td>101.423829</td>\n",
       "      <td>102.127894</td>\n",
       "      <td>-8.969690</td>\n",
       "    </tr>\n",
       "    <tr>\n",
       "      <th>50%</th>\n",
       "      <td>103.053917</td>\n",
       "      <td>48.604555</td>\n",
       "      <td>108.417709</td>\n",
       "      <td>48.783566</td>\n",
       "      <td>111.389243</td>\n",
       "      <td>113.829715</td>\n",
       "      <td>-4.434344</td>\n",
       "    </tr>\n",
       "    <tr>\n",
       "      <th>75%</th>\n",
       "      <td>175.154758</td>\n",
       "      <td>95.823725</td>\n",
       "      <td>187.390438</td>\n",
       "      <td>103.715279</td>\n",
       "      <td>117.911578</td>\n",
       "      <td>126.236102</td>\n",
       "      <td>3.080412</td>\n",
       "    </tr>\n",
       "    <tr>\n",
       "      <th>max</th>\n",
       "      <td>315.959503</td>\n",
       "      <td>211.406387</td>\n",
       "      <td>373.880005</td>\n",
       "      <td>313.739990</td>\n",
       "      <td>171.942026</td>\n",
       "      <td>182.784806</td>\n",
       "      <td>50.254265</td>\n",
       "    </tr>\n",
       "  </tbody>\n",
       "</table>\n",
       "</div>"
      ],
      "text/plain": [
       "             SPY_x        QQQ_x        SPY_y        QQQ_y   SPY 1-year  \\\n",
       "count  3718.000000  3718.000000  3718.000000  3718.000000  3718.000000   \n",
       "mean    131.090108    68.852190   142.414674    77.209400   107.784638   \n",
       "std      63.536945    46.095748    74.902582    60.066914    16.506389   \n",
       "min      53.503864    17.459492    54.045895    17.459492    52.645897   \n",
       "25%      85.907768    34.303350    86.146782    34.522491   101.423829   \n",
       "50%     103.053917    48.604555   108.417709    48.783566   111.389243   \n",
       "75%     175.154758    95.823725   187.390438   103.715279   117.911578   \n",
       "max     315.959503   211.406387   373.880005   313.739990   171.942026   \n",
       "\n",
       "        QQQ 1-year  1-year diff  \n",
       "count  3718.000000  3718.000000  \n",
       "mean    109.812931    -2.028293  \n",
       "std      25.410340    12.989882  \n",
       "min      30.615592   -39.148806  \n",
       "25%     102.127894    -8.969690  \n",
       "50%     113.829715    -4.434344  \n",
       "75%     126.236102     3.080412  \n",
       "max     182.784806    50.254265  "
      ]
     },
     "execution_count": 25,
     "metadata": {},
     "output_type": "execute_result"
    }
   ],
   "source": [
    "# 1-year return stats\n",
    "y1_return_1.describe()"
   ]
  },
  {
   "cell_type": "markdown",
   "metadata": {},
   "source": [
    "# 5-Year"
   ]
  },
  {
   "cell_type": "code",
   "execution_count": 26,
   "metadata": {},
   "outputs": [],
   "source": [
    "# Calculate 5-year returns\n",
    "y5_return_1, y5_return_2, y5_return_3 = year_percent_change(df_etf, 5)"
   ]
  },
  {
   "cell_type": "code",
   "execution_count": 27,
   "metadata": {},
   "outputs": [
    {
     "data": {
      "image/png": "[encoded data removed]",
      "text/plain": [
       "<Figure size 432x288 with 1 Axes>"
      ]
     },
     "metadata": {
      "needs_background": "light"
     },
     "output_type": "display_data"
    }
   ],
   "source": [
    "# Plot 5-year bar chart\n",
    "y5_bar = bar_chart(y5_return_2, y5_return_3, 5)"
   ]
  },
  {
   "cell_type": "code",
   "execution_count": 28,
   "metadata": {},
   "outputs": [
    {
     "data": {
      "image/png": "[encoded data removed]",
      "text/plain": [
       "<Figure size 432x288 with 1 Axes>"
      ]
     },
     "metadata": {
      "needs_background": "light"
     },
     "output_type": "display_data"
    }
   ],
   "source": [
    "# Plot 5-year histogram\n",
    "y5_hist = hist_chart(y5_return_1, 5)"
   ]
  },
  {
   "cell_type": "code",
   "execution_count": 29,
   "metadata": {},
   "outputs": [
    {
     "data": {
      "text/html": [
       "<div>\n",
       "<style scoped>\n",
       "    .dataframe tbody tr th:only-of-type {\n",
       "        vertical-align: middle;\n",
       "    }\n",
       "\n",
       "    .dataframe tbody tr th {\n",
       "        vertical-align: top;\n",
       "    }\n",
       "\n",
       "    .dataframe thead th {\n",
       "        text-align: right;\n",
       "    }\n",
       "</style>\n",
       "<table border=\"1\" class=\"dataframe\">\n",
       "  <thead>\n",
       "    <tr style=\"text-align: right;\">\n",
       "      <th></th>\n",
       "      <th>SPY_x</th>\n",
       "      <th>QQQ_x</th>\n",
       "      <th>SPY_y</th>\n",
       "      <th>QQQ_y</th>\n",
       "      <th>SPY 5-year</th>\n",
       "      <th>QQQ 5-year</th>\n",
       "      <th>5-year diff</th>\n",
       "    </tr>\n",
       "  </thead>\n",
       "  <tbody>\n",
       "    <tr>\n",
       "      <th>count</th>\n",
       "      <td>3386.000000</td>\n",
       "      <td>3386.000000</td>\n",
       "      <td>3386.000000</td>\n",
       "      <td>3386.000000</td>\n",
       "      <td>3386.000000</td>\n",
       "      <td>3386.000000</td>\n",
       "      <td>3386.000000</td>\n",
       "    </tr>\n",
       "    <tr>\n",
       "      <th>mean</th>\n",
       "      <td>105.404501</td>\n",
       "      <td>50.124360</td>\n",
       "      <td>160.771032</td>\n",
       "      <td>91.135295</td>\n",
       "      <td>150.409489</td>\n",
       "      <td>176.308822</td>\n",
       "      <td>-25.899334</td>\n",
       "    </tr>\n",
       "    <tr>\n",
       "      <th>std</th>\n",
       "      <td>34.101735</td>\n",
       "      <td>23.606841</td>\n",
       "      <td>76.544577</td>\n",
       "      <td>65.080724</td>\n",
       "      <td>44.865581</td>\n",
       "      <td>67.110989</td>\n",
       "      <td>30.196422</td>\n",
       "    </tr>\n",
       "    <tr>\n",
       "      <th>min</th>\n",
       "      <td>54.045895</td>\n",
       "      <td>17.459492</td>\n",
       "      <td>53.503864</td>\n",
       "      <td>22.731062</td>\n",
       "      <td>65.128263</td>\n",
       "      <td>31.159330</td>\n",
       "      <td>-107.720241</td>\n",
       "    </tr>\n",
       "    <tr>\n",
       "      <th>25%</th>\n",
       "      <td>81.633501</td>\n",
       "      <td>32.775189</td>\n",
       "      <td>97.946789</td>\n",
       "      <td>40.211440</td>\n",
       "      <td>106.327638</td>\n",
       "      <td>128.601925</td>\n",
       "      <td>-42.221003</td>\n",
       "    </tr>\n",
       "    <tr>\n",
       "      <th>50%</th>\n",
       "      <td>96.788704</td>\n",
       "      <td>41.212219</td>\n",
       "      <td>124.718426</td>\n",
       "      <td>62.465155</td>\n",
       "      <td>155.033189</td>\n",
       "      <td>177.810527</td>\n",
       "      <td>-30.148550</td>\n",
       "    </tr>\n",
       "    <tr>\n",
       "      <th>75%</th>\n",
       "      <td>114.488506</td>\n",
       "      <td>62.031839</td>\n",
       "      <td>209.683758</td>\n",
       "      <td>116.676590</td>\n",
       "      <td>188.945293</td>\n",
       "      <td>229.829144</td>\n",
       "      <td>-13.862684</td>\n",
       "    </tr>\n",
       "    <tr>\n",
       "      <th>max</th>\n",
       "      <td>190.884201</td>\n",
       "      <td>110.037781</td>\n",
       "      <td>373.880005</td>\n",
       "      <td>313.739990</td>\n",
       "      <td>303.273901</td>\n",
       "      <td>364.490323</td>\n",
       "      <td>62.034755</td>\n",
       "    </tr>\n",
       "  </tbody>\n",
       "</table>\n",
       "</div>"
      ],
      "text/plain": [
       "             SPY_x        QQQ_x        SPY_y        QQQ_y   SPY 5-year  \\\n",
       "count  3386.000000  3386.000000  3386.000000  3386.000000  3386.000000   \n",
       "mean    105.404501    50.124360   160.771032    91.135295   150.409489   \n",
       "std      34.101735    23.606841    76.544577    65.080724    44.865581   \n",
       "min      54.045895    17.459492    53.503864    22.731062    65.128263   \n",
       "25%      81.633501    32.775189    97.946789    40.211440   106.327638   \n",
       "50%      96.788704    41.212219   124.718426    62.465155   155.033189   \n",
       "75%     114.488506    62.031839   209.683758   116.676590   188.945293   \n",
       "max     190.884201   110.037781   373.880005   313.739990   303.273901   \n",
       "\n",
       "        QQQ 5-year  5-year diff  \n",
       "count  3386.000000  3386.000000  \n",
       "mean    176.308822   -25.899334  \n",
       "std      67.110989    30.196422  \n",
       "min      31.159330  -107.720241  \n",
       "25%     128.601925   -42.221003  \n",
       "50%     177.810527   -30.148550  \n",
       "75%     229.829144   -13.862684  \n",
       "max     364.490323    62.034755  "
      ]
     },
     "execution_count": 29,
     "metadata": {},
     "output_type": "execute_result"
    }
   ],
   "source": [
    "# 5-year return stats\n",
    "y5_return_1.describe()"
   ]
  },
  {
   "cell_type": "markdown",
   "metadata": {},
   "source": [
    "# 10-Year"
   ]
  },
  {
   "cell_type": "code",
   "execution_count": 30,
   "metadata": {},
   "outputs": [],
   "source": [
    "# Calculate 10-year returns\n",
    "y10_return_1, y10_return_2, y10_return_3 = year_percent_change(df_etf, 10)"
   ]
  },
  {
   "cell_type": "code",
   "execution_count": 31,
   "metadata": {},
   "outputs": [
    {
     "data": {
      "image/png": "[encoded data removed]",
      "text/plain": [
       "<Figure size 432x288 with 1 Axes>"
      ]
     },
     "metadata": {
      "needs_background": "light"
     },
     "output_type": "display_data"
    }
   ],
   "source": [
    "# Plot 10-year bar chart\n",
    "y10_bar = bar_chart(y10_return_2, y10_return_3, 10)"
   ]
  },
  {
   "cell_type": "code",
   "execution_count": 32,
   "metadata": {},
   "outputs": [
    {
     "data": {
      "image/png": "[encoded data removed]",
      "text/plain": [
       "<Figure size 432x288 with 1 Axes>"
      ]
     },
     "metadata": {
      "needs_background": "light"
     },
     "output_type": "display_data"
    }
   ],
   "source": [
    "# Plot 10-year histogram\n",
    "y10_hist = hist_chart(y10_return_1, 10)"
   ]
  },
  {
   "cell_type": "code",
   "execution_count": 33,
   "metadata": {},
   "outputs": [
    {
     "data": {
      "text/html": [
       "<div>\n",
       "<style scoped>\n",
       "    .dataframe tbody tr th:only-of-type {\n",
       "        vertical-align: middle;\n",
       "    }\n",
       "\n",
       "    .dataframe tbody tr th {\n",
       "        vertical-align: top;\n",
       "    }\n",
       "\n",
       "    .dataframe thead th {\n",
       "        text-align: right;\n",
       "    }\n",
       "</style>\n",
       "<table border=\"1\" class=\"dataframe\">\n",
       "  <thead>\n",
       "    <tr style=\"text-align: right;\">\n",
       "      <th></th>\n",
       "      <th>SPY_x</th>\n",
       "      <th>QQQ_x</th>\n",
       "      <th>SPY_y</th>\n",
       "      <th>QQQ_y</th>\n",
       "      <th>SPY 10-year</th>\n",
       "      <th>QQQ 10-year</th>\n",
       "      <th>10-year diff</th>\n",
       "    </tr>\n",
       "  </thead>\n",
       "  <tbody>\n",
       "    <tr>\n",
       "      <th>count</th>\n",
       "      <td>1880.000000</td>\n",
       "      <td>1880.000000</td>\n",
       "      <td>1880.000000</td>\n",
       "      <td>1880.000000</td>\n",
       "      <td>1880.000000</td>\n",
       "      <td>1880.000000</td>\n",
       "      <td>1880.000000</td>\n",
       "    </tr>\n",
       "    <tr>\n",
       "      <th>mean</th>\n",
       "      <td>87.387743</td>\n",
       "      <td>38.269105</td>\n",
       "      <td>191.294793</td>\n",
       "      <td>115.658791</td>\n",
       "      <td>220.786228</td>\n",
       "      <td>322.811520</td>\n",
       "      <td>-102.025292</td>\n",
       "    </tr>\n",
       "    <tr>\n",
       "      <th>std</th>\n",
       "      <td>14.898894</td>\n",
       "      <td>14.278610</td>\n",
       "      <td>72.675992</td>\n",
       "      <td>63.889377</td>\n",
       "      <td>81.831789</td>\n",
       "      <td>157.850464</td>\n",
       "      <td>79.368959</td>\n",
       "    </tr>\n",
       "    <tr>\n",
       "      <th>min</th>\n",
       "      <td>54.045895</td>\n",
       "      <td>17.459492</td>\n",
       "      <td>83.415825</td>\n",
       "      <td>38.167866</td>\n",
       "      <td>82.657919</td>\n",
       "      <td>41.863862</td>\n",
       "      <td>-346.873622</td>\n",
       "    </tr>\n",
       "    <tr>\n",
       "      <th>25%</th>\n",
       "      <td>76.594086</td>\n",
       "      <td>30.546121</td>\n",
       "      <td>122.370895</td>\n",
       "      <td>62.024904</td>\n",
       "      <td>189.927638</td>\n",
       "      <td>251.874544</td>\n",
       "      <td>-143.833465</td>\n",
       "    </tr>\n",
       "    <tr>\n",
       "      <th>50%</th>\n",
       "      <td>87.929790</td>\n",
       "      <td>35.736631</td>\n",
       "      <td>185.514885</td>\n",
       "      <td>102.175785</td>\n",
       "      <td>205.305789</td>\n",
       "      <td>301.188511</td>\n",
       "      <td>-97.062093</td>\n",
       "    </tr>\n",
       "    <tr>\n",
       "      <th>75%</th>\n",
       "      <td>97.564810</td>\n",
       "      <td>41.457865</td>\n",
       "      <td>250.927364</td>\n",
       "      <td>157.018394</td>\n",
       "      <td>240.420589</td>\n",
       "      <td>384.512522</td>\n",
       "      <td>-56.218601</td>\n",
       "    </tr>\n",
       "    <tr>\n",
       "      <th>max</th>\n",
       "      <td>119.400124</td>\n",
       "      <td>102.322060</td>\n",
       "      <td>373.880005</td>\n",
       "      <td>313.739990</td>\n",
       "      <td>497.382157</td>\n",
       "      <td>752.568384</td>\n",
       "      <td>56.397221</td>\n",
       "    </tr>\n",
       "  </tbody>\n",
       "</table>\n",
       "</div>"
      ],
      "text/plain": [
       "             SPY_x        QQQ_x        SPY_y        QQQ_y  SPY 10-year  \\\n",
       "count  1880.000000  1880.000000  1880.000000  1880.000000  1880.000000   \n",
       "mean     87.387743    38.269105   191.294793   115.658791   220.786228   \n",
       "std      14.898894    14.278610    72.675992    63.889377    81.831789   \n",
       "min      54.045895    17.459492    83.415825    38.167866    82.657919   \n",
       "25%      76.594086    30.546121   122.370895    62.024904   189.927638   \n",
       "50%      87.929790    35.736631   185.514885   102.175785   205.305789   \n",
       "75%      97.564810    41.457865   250.927364   157.018394   240.420589   \n",
       "max     119.400124   102.322060   373.880005   313.739990   497.382157   \n",
       "\n",
       "       QQQ 10-year  10-year diff  \n",
       "count  1880.000000   1880.000000  \n",
       "mean    322.811520   -102.025292  \n",
       "std     157.850464     79.368959  \n",
       "min      41.863862   -346.873622  \n",
       "25%     251.874544   -143.833465  \n",
       "50%     301.188511    -97.062093  \n",
       "75%     384.512522    -56.218601  \n",
       "max     752.568384     56.397221  "
      ]
     },
     "execution_count": 33,
     "metadata": {},
     "output_type": "execute_result"
    }
   ],
   "source": [
    "# 10-year return stats\n",
    "y10_return_1.describe()"
   ]
  },
  {
   "cell_type": "code",
   "execution_count": 34,
   "metadata": {},
   "outputs": [
    {
     "data": {
      "text/html": [
       "<div>\n",
       "<style scoped>\n",
       "    .dataframe tbody tr th:only-of-type {\n",
       "        vertical-align: middle;\n",
       "    }\n",
       "\n",
       "    .dataframe tbody tr th {\n",
       "        vertical-align: top;\n",
       "    }\n",
       "\n",
       "    .dataframe thead th {\n",
       "        text-align: right;\n",
       "    }\n",
       "</style>\n",
       "<table border=\"1\" class=\"dataframe\">\n",
       "  <thead>\n",
       "    <tr style=\"text-align: right;\">\n",
       "      <th></th>\n",
       "      <th>Date</th>\n",
       "      <th>SPY_x</th>\n",
       "      <th>QQQ_x</th>\n",
       "      <th>Date 10-year</th>\n",
       "      <th>SPY_y</th>\n",
       "      <th>QQQ_y</th>\n",
       "      <th>SPY 10-year</th>\n",
       "      <th>QQQ 10-year</th>\n",
       "      <th>Greater</th>\n",
       "      <th>10-year diff</th>\n",
       "    </tr>\n",
       "  </thead>\n",
       "  <tbody>\n",
       "    <tr>\n",
       "      <th>2673</th>\n",
       "      <td>2010-08-19</td>\n",
       "      <td>87.478333</td>\n",
       "      <td>40.372227</td>\n",
       "      <td>2020-08-19</td>\n",
       "      <td>334.459778</td>\n",
       "      <td>275.600464</td>\n",
       "      <td>382.334423</td>\n",
       "      <td>682.648658</td>\n",
       "      <td>QQQ</td>\n",
       "      <td>-300.314235</td>\n",
       "    </tr>\n",
       "    <tr>\n",
       "      <th>2674</th>\n",
       "      <td>2010-08-20</td>\n",
       "      <td>87.194534</td>\n",
       "      <td>40.426208</td>\n",
       "      <td>2020-08-20</td>\n",
       "      <td>335.501160</td>\n",
       "      <td>279.423523</td>\n",
       "      <td>384.773154</td>\n",
       "      <td>691.193989</td>\n",
       "      <td>QQQ</td>\n",
       "      <td>-306.420835</td>\n",
       "    </tr>\n",
       "    <tr>\n",
       "      <th>2676</th>\n",
       "      <td>2010-08-24</td>\n",
       "      <td>85.572762</td>\n",
       "      <td>39.283257</td>\n",
       "      <td>2020-08-24</td>\n",
       "      <td>340.103058</td>\n",
       "      <td>283.116821</td>\n",
       "      <td>397.443125</td>\n",
       "      <td>720.706088</td>\n",
       "      <td>QQQ</td>\n",
       "      <td>-323.262962</td>\n",
       "    </tr>\n",
       "    <tr>\n",
       "      <th>2677</th>\n",
       "      <td>2010-08-25</td>\n",
       "      <td>85.905235</td>\n",
       "      <td>39.661243</td>\n",
       "      <td>2020-08-25</td>\n",
       "      <td>341.293182</td>\n",
       "      <td>285.342773</td>\n",
       "      <td>397.290318</td>\n",
       "      <td>719.449893</td>\n",
       "      <td>QQQ</td>\n",
       "      <td>-322.159575</td>\n",
       "    </tr>\n",
       "    <tr>\n",
       "      <th>2678</th>\n",
       "      <td>2010-08-26</td>\n",
       "      <td>85.329514</td>\n",
       "      <td>39.184265</td>\n",
       "      <td>2020-08-26</td>\n",
       "      <td>344.714844</td>\n",
       "      <td>291.431763</td>\n",
       "      <td>403.980791</td>\n",
       "      <td>743.746914</td>\n",
       "      <td>QQQ</td>\n",
       "      <td>-339.766123</td>\n",
       "    </tr>\n",
       "    <tr>\n",
       "      <th>2679</th>\n",
       "      <td>2010-08-27</td>\n",
       "      <td>86.651260</td>\n",
       "      <td>39.661243</td>\n",
       "      <td>2020-08-27</td>\n",
       "      <td>345.468567</td>\n",
       "      <td>290.523376</td>\n",
       "      <td>398.688450</td>\n",
       "      <td>732.512023</td>\n",
       "      <td>QQQ</td>\n",
       "      <td>-333.823573</td>\n",
       "    </tr>\n",
       "    <tr>\n",
       "      <th>2681</th>\n",
       "      <td>2010-08-31</td>\n",
       "      <td>85.394386</td>\n",
       "      <td>39.112255</td>\n",
       "      <td>2020-08-31</td>\n",
       "      <td>346.440552</td>\n",
       "      <td>294.346466</td>\n",
       "      <td>405.694761</td>\n",
       "      <td>752.568384</td>\n",
       "      <td>QQQ</td>\n",
       "      <td>-346.873622</td>\n",
       "    </tr>\n",
       "    <tr>\n",
       "      <th>2682</th>\n",
       "      <td>2010-09-01</td>\n",
       "      <td>87.948669</td>\n",
       "      <td>40.282223</td>\n",
       "      <td>2020-09-01</td>\n",
       "      <td>349.703522</td>\n",
       "      <td>299.377380</td>\n",
       "      <td>397.622299</td>\n",
       "      <td>743.199754</td>\n",
       "      <td>QQQ</td>\n",
       "      <td>-345.577455</td>\n",
       "    </tr>\n",
       "    <tr>\n",
       "      <th>2683</th>\n",
       "      <td>2010-09-02</td>\n",
       "      <td>88.767677</td>\n",
       "      <td>40.732204</td>\n",
       "      <td>2020-09-02</td>\n",
       "      <td>354.761627</td>\n",
       "      <td>302.212219</td>\n",
       "      <td>399.651808</td>\n",
       "      <td>741.949088</td>\n",
       "      <td>QQQ</td>\n",
       "      <td>-342.297280</td>\n",
       "    </tr>\n",
       "    <tr>\n",
       "      <th>2684</th>\n",
       "      <td>2010-09-03</td>\n",
       "      <td>89.919128</td>\n",
       "      <td>41.407162</td>\n",
       "      <td>2020-09-03</td>\n",
       "      <td>342.552765</td>\n",
       "      <td>286.889984</td>\n",
       "      <td>380.956500</td>\n",
       "      <td>692.851121</td>\n",
       "      <td>QQQ</td>\n",
       "      <td>-311.894621</td>\n",
       "    </tr>\n",
       "  </tbody>\n",
       "</table>\n",
       "</div>"
      ],
      "text/plain": [
       "           Date      SPY_x      QQQ_x Date 10-year       SPY_y       QQQ_y  \\\n",
       "2673 2010-08-19  87.478333  40.372227   2020-08-19  334.459778  275.600464   \n",
       "2674 2010-08-20  87.194534  40.426208   2020-08-20  335.501160  279.423523   \n",
       "2676 2010-08-24  85.572762  39.283257   2020-08-24  340.103058  283.116821   \n",
       "2677 2010-08-25  85.905235  39.661243   2020-08-25  341.293182  285.342773   \n",
       "2678 2010-08-26  85.329514  39.184265   2020-08-26  344.714844  291.431763   \n",
       "2679 2010-08-27  86.651260  39.661243   2020-08-27  345.468567  290.523376   \n",
       "2681 2010-08-31  85.394386  39.112255   2020-08-31  346.440552  294.346466   \n",
       "2682 2010-09-01  87.948669  40.282223   2020-09-01  349.703522  299.377380   \n",
       "2683 2010-09-02  88.767677  40.732204   2020-09-02  354.761627  302.212219   \n",
       "2684 2010-09-03  89.919128  41.407162   2020-09-03  342.552765  286.889984   \n",
       "\n",
       "      SPY 10-year  QQQ 10-year Greater  10-year diff  \n",
       "2673   382.334423   682.648658     QQQ   -300.314235  \n",
       "2674   384.773154   691.193989     QQQ   -306.420835  \n",
       "2676   397.443125   720.706088     QQQ   -323.262962  \n",
       "2677   397.290318   719.449893     QQQ   -322.159575  \n",
       "2678   403.980791   743.746914     QQQ   -339.766123  \n",
       "2679   398.688450   732.512023     QQQ   -333.823573  \n",
       "2681   405.694761   752.568384     QQQ   -346.873622  \n",
       "2682   397.622299   743.199754     QQQ   -345.577455  \n",
       "2683   399.651808   741.949088     QQQ   -342.297280  \n",
       "2684   380.956500   692.851121     QQQ   -311.894621  "
      ]
     },
     "execution_count": 34,
     "metadata": {},
     "output_type": "execute_result"
    }
   ],
   "source": [
    "# 10-year percent difference less than -300%\n",
    "pd.set_option('display.max_rows', None)\n",
    "y10_return_1[y10_return_1['10-year diff']<-300]"
   ]
  }
 ],
 "metadata": {
  "kernelspec": {
   "display_name": "Python 3",
   "language": "python",
   "name": "python3"
  },
  "language_info": {
   "codemirror_mode": {
    "name": "ipython",
    "version": 3
   },
   "file_extension": ".py",
   "mimetype": "text/x-python",
   "name": "python",
   "nbconvert_exporter": "python",
   "pygments_lexer": "ipython3",
   "version": "3.7.1"
  }
 },
 "nbformat": 4,
 "nbformat_minor": 2
}
